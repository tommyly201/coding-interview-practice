{
 "cells": [
  {
   "cell_type": "code",
   "execution_count": 1,
   "metadata": {},
   "outputs": [
    {
     "name": "stdout",
     "output_type": "stream",
     "text": [
      "True\n",
      "False\n"
     ]
    }
   ],
   "source": [
    "#1.2 Check Permutation: Given two strings, write a method to decide if one is a permutation of the other.\n",
    "def are_anagrams(s1, s2):\n",
    "    # Check length\n",
    "    if len(s1) == len(s2):\n",
    "        if ''.join(sorted(s1)) == ''.join(sorted(s2)):\n",
    "            return True \n",
    "    return False\n",
    "\n",
    "    \n",
    "# Test the function\n",
    "s1 = \"listen\"\n",
    "s2 = \"silent\"\n",
    "print(are_anagrams(s1, s2))  # True\n",
    "\n",
    "s1 = \"hello\"\n",
    "s2 = \"world\"\n",
    "print(are_anagrams(s1, s2))  # False"
   ]
  },
  {
   "cell_type": "code",
   "execution_count": null,
   "metadata": {},
   "outputs": [],
   "source": [
    "#1.1 Is Unique: Implement an algorithm to determine if a string has all unique characters. What if you cannot use additional data structures?\n",
    "def check_duplicates(word):\n",
    "    index_dict = {}\n",
    "    \n",
    "    for i, char in enumerate(word):\n",
    "        if char not in index_dict:\n",
    "            index_dict[char] = [i]\n",
    "        else:\n",
    "            index_dict[char].append(i)\n",
    "\n",
    "            # If we found more than 2 indices for a character, return True\n",
    "            if len(index_dict[char]) > 2:\n",
    "                return True\n",
    "    print(index_dict)\n",
    "    # No character was found with more than 2 indices, return False\n",
    "    return False\n",
    "\n",
    "# Test the function\n",
    "word = \"programming\"\n",
    "print(check_duplicates(word))  # True"
   ]
  },
  {
   "cell_type": "code",
   "execution_count": 1,
   "metadata": {},
   "outputs": [
    {
     "name": "stdout",
     "output_type": "stream",
     "text": [
      "Mr%20John%20Smith%20\n"
     ]
    }
   ],
   "source": [
    "#1.3 URLify: Write a method to replace all spaces in a string with '%20'. You may assume that the string has sufficient space at the end to hold the additional characters, and that you are given the \"true\" length of the string. (Note: If implementing in Java, please use a character array so that you can perform this operation in place.)\n",
    "# EXAMPLE\n",
    "# Input: \"Mr John Smith \", 13\n",
    "# Output: \"Mr%20John%20Smith\"\n",
    "def urlify(string):\n",
    "    return string.replace(\" \", \"%20\")\n",
    "\n",
    "# Test the function\n",
    "string = \"Mr John Smith \"\n",
    "print(urlify(string))  # \"Mr%20John%20Smith\"\n",
    "\n"
   ]
  },
  {
   "cell_type": "code",
   "execution_count": 4,
   "metadata": {},
   "outputs": [
    {
     "name": "stdout",
     "output_type": "stream",
     "text": [
      "True\n"
     ]
    }
   ],
   "source": [
    "#1.4 Palindrome Permutation: Given a string, write a function to check if it is a permutation of a palindrome. A palindrome is a word or phrase that is the same forwards and backwards. A permutation is a rearrangement of letters.The palindrome does not need to be limited to just dictionary words.\n",
    "# EXAMPLE\n",
    "# Input: Tact Coa\n",
    "# Output: True (permutations: \"taco cat\", \"atco eta\", etc.)\n",
    "def is_palindrome_permutation(string):\n",
    "    # Remove spaces and lowercase the string\n",
    "    string = string.replace(\" \", \"\").lower()\n",
    "    # Count the frequency of each character\n",
    "    dict = {}\n",
    "    odd_counts = 0\n",
    "    \n",
    "    for char in string:\n",
    "        if char in dict:\n",
    "            dict[char] += 1\n",
    "        else:\n",
    "            dict[char] = 1\n",
    "    \n",
    "    # Check that no more than one character has an odd count\n",
    "    for value in dict.values():\n",
    "        if value % 2 != 0:\n",
    "            odd_counts += 1\n",
    "        if odd_counts > 1:\n",
    "            return False\n",
    "    return True\n",
    "\n",
    "# Test the function\n",
    "string = \"Tact Coa\"\n",
    "print(is_palindrome_permutation(string))  # True\n"
   ]
  },
  {
   "cell_type": "code",
   "execution_count": null,
   "metadata": {},
   "outputs": [],
   "source": []
  }
 ],
 "metadata": {
  "kernelspec": {
   "display_name": "Python 3",
   "language": "python",
   "name": "python3"
  },
  "language_info": {
   "codemirror_mode": {
    "name": "ipython",
    "version": 3
   },
   "file_extension": ".py",
   "mimetype": "text/x-python",
   "name": "python",
   "nbconvert_exporter": "python",
   "pygments_lexer": "ipython3",
   "version": "3.9.12"
  },
  "orig_nbformat": 4
 },
 "nbformat": 4,
 "nbformat_minor": 2
}
