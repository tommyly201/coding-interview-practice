{
 "cells": [
  {
   "cell_type": "code",
   "execution_count": 54,
   "metadata": {},
   "outputs": [
    {
     "name": "stdout",
     "output_type": "stream",
     "text": [
      "True\n",
      "False\n"
     ]
    }
   ],
   "source": [
    "#1.2 Check Permutation: Given two strings, write a method to decide if one is a permutation of the other.\n",
    "def are_anagrams(s1, s2):\n",
    "    # Check length\n",
    "    if len(s1) == len(s2):\n",
    "        if ''.join(sorted(s1)) == ''.join(sorted(s2)):\n",
    "            return True \n",
    "    return False\n",
    "\n",
    "    \n",
    "# Test the function\n",
    "s1 = \"listen\"\n",
    "s2 = \"silent\"\n",
    "print(are_anagrams(s1, s2))  # True\n",
    "\n",
    "s1 = \"hello\"\n",
    "s2 = \"world\"\n",
    "print(are_anagrams(s1, s2))  # False"
   ]
  },
  {
   "cell_type": "code",
   "execution_count": 55,
   "metadata": {},
   "outputs": [
    {
     "name": "stdout",
     "output_type": "stream",
     "text": [
      "{'p': [0], 'r': [1, 4], 'o': [2], 'g': [3, 10], 'a': [5], 'm': [6, 7], 'i': [8], 'n': [9]}\n",
      "False\n"
     ]
    }
   ],
   "source": [
    "#1.1 Is Unique: Implement an algorithm to determine if a string has all unique characters. What if you cannot use additional data structures?\n",
    "def check_duplicates(word):\n",
    "    index_dict = {}\n",
    "    \n",
    "    for i, char in enumerate(word):\n",
    "        if char not in index_dict:\n",
    "            index_dict[char] = [i]\n",
    "        else:\n",
    "            index_dict[char].append(i)\n",
    "\n",
    "            # If we found more than 2 indices for a character, return True\n",
    "            if len(index_dict[char]) > 2:\n",
    "                return True\n",
    "    print(index_dict)\n",
    "    # No character was found with more than 2 indices, return False\n",
    "    return False\n",
    "\n",
    "# Test the function\n",
    "word = \"programming\"\n",
    "print(check_duplicates(word))  # True"
   ]
  },
  {
   "cell_type": "code",
   "execution_count": 56,
   "metadata": {},
   "outputs": [
    {
     "name": "stdout",
     "output_type": "stream",
     "text": [
      "Mr%20John%20Smith%20\n"
     ]
    }
   ],
   "source": [
    "#1.3 URLify: Write a method to replace all spaces in a string with '%20'. You may assume that the string has sufficient space at the end to hold the additional characters, and that you are given the \"true\" length of the string. (Note: If implementing in Java, please use a character array so that you can perform this operation in place.)\n",
    "# EXAMPLE\n",
    "# Input: \"Mr John Smith \", 13\n",
    "# Output: \"Mr%20John%20Smith\"\n",
    "def urlify(string):\n",
    "    return string.replace(\" \", \"%20\")\n",
    "\n",
    "# Test the function\n",
    "string = \"Mr John Smith \"\n",
    "print(urlify(string))  # \"Mr%20John%20Smith\"\n",
    "\n"
   ]
  },
  {
   "cell_type": "code",
   "execution_count": 57,
   "metadata": {},
   "outputs": [
    {
     "name": "stdout",
     "output_type": "stream",
     "text": [
      "True\n"
     ]
    }
   ],
   "source": [
    "#1.4 Palindrome Permutation: Given a string, write a function to check if it is a permutation of a palindrome. A palindrome is a word or phrase that is the same forwards and backwards. A permutation is a rearrangement of letters.The palindrome does not need to be limited to just dictionary words.\n",
    "# EXAMPLE\n",
    "# Input: Tact Coa\n",
    "# Output: True (permutations: \"taco cat\", \"atco eta\", etc.)\n",
    "def is_palindrome_permutation(string):\n",
    "    # Remove spaces and lowercase the string\n",
    "    string = string.replace(\" \", \"\").lower()\n",
    "    # Count the frequency of each character\n",
    "    dict = {}\n",
    "    odd_counts = 0\n",
    "    \n",
    "    for char in string:\n",
    "        if char in dict:\n",
    "            dict[char] += 1\n",
    "        else:\n",
    "            dict[char] = 1\n",
    "    \n",
    "    # Check that no more than one character has an odd count\n",
    "    for value in dict.values():\n",
    "        if value % 2 != 0:\n",
    "            odd_counts += 1\n",
    "        if odd_counts > 1:\n",
    "            return False\n",
    "    return True\n",
    "\n",
    "# Test the function\n",
    "string = \"Tact Coa\"\n",
    "print(is_palindrome_permutation(string))  # True\n"
   ]
  },
  {
   "cell_type": "code",
   "execution_count": 58,
   "metadata": {},
   "outputs": [
    {
     "name": "stdout",
     "output_type": "stream",
     "text": [
      "movement :  14 ['M', 'r', ' ', ' ', 'J', 'o', 'h', 'n', ' ', ' ', 'S', 'm', 'i', 't', 'h', '', '', '', '', '', '', '', 'h']\n",
      "movement :  13 ['M', 'r', ' ', ' ', 'J', 'o', 'h', 'n', ' ', ' ', 'S', 'm', 'i', 't', 'h', '', '', '', '', '', '', 't', 'h']\n",
      "movement :  12 ['M', 'r', ' ', ' ', 'J', 'o', 'h', 'n', ' ', ' ', 'S', 'm', 'i', 't', 'h', '', '', '', '', '', 'i', 't', 'h']\n",
      "movement :  11 ['M', 'r', ' ', ' ', 'J', 'o', 'h', 'n', ' ', ' ', 'S', 'm', 'i', 't', 'h', '', '', '', '', 'm', 'i', 't', 'h']\n",
      "movement :  10 ['M', 'r', ' ', ' ', 'J', 'o', 'h', 'n', ' ', ' ', 'S', 'm', 'i', 't', 'h', '', '', '', 'S', 'm', 'i', 't', 'h']\n",
      "replace  :  9 ['M', 'r', ' ', ' ', 'J', 'o', 'h', 'n', ' ', ' ', 'S', 'm', 'i', 't', 'h', '%', '2', '0', 'S', 'm', 'i', 't', 'h']\n",
      "replace  :  8 ['M', 'r', ' ', ' ', 'J', 'o', 'h', 'n', ' ', ' ', 'S', 'm', '%', '2', '0', '%', '2', '0', 'S', 'm', 'i', 't', 'h']\n",
      "movement :  7 ['M', 'r', ' ', ' ', 'J', 'o', 'h', 'n', ' ', ' ', 'S', 'n', '%', '2', '0', '%', '2', '0', 'S', 'm', 'i', 't', 'h']\n",
      "movement :  6 ['M', 'r', ' ', ' ', 'J', 'o', 'h', 'n', ' ', ' ', 'h', 'n', '%', '2', '0', '%', '2', '0', 'S', 'm', 'i', 't', 'h']\n",
      "movement :  5 ['M', 'r', ' ', ' ', 'J', 'o', 'h', 'n', ' ', 'o', 'h', 'n', '%', '2', '0', '%', '2', '0', 'S', 'm', 'i', 't', 'h']\n",
      "movement :  4 ['M', 'r', ' ', ' ', 'J', 'o', 'h', 'n', 'J', 'o', 'h', 'n', '%', '2', '0', '%', '2', '0', 'S', 'm', 'i', 't', 'h']\n",
      "replace  :  3 ['M', 'r', ' ', ' ', 'J', '%', '2', '0', 'J', 'o', 'h', 'n', '%', '2', '0', '%', '2', '0', 'S', 'm', 'i', 't', 'h']\n",
      "replace  :  2 ['M', 'r', '%', '2', '0', '%', '2', '0', 'J', 'o', 'h', 'n', '%', '2', '0', '%', '2', '0', 'S', 'm', 'i', 't', 'h']\n",
      "movement :  1 ['M', 'r', '%', '2', '0', '%', '2', '0', 'J', 'o', 'h', 'n', '%', '2', '0', '%', '2', '0', 'S', 'm', 'i', 't', 'h']\n",
      "movement :  0 ['M', 'r', '%', '2', '0', '%', '2', '0', 'J', 'o', 'h', 'n', '%', '2', '0', '%', '2', '0', 'S', 'm', 'i', 't', 'h']\n",
      "Mr%20%20John%20%20Smith\n"
     ]
    }
   ],
   "source": [
    "#1.3 URLify: Write a method to replace all spaces in a string with '%20'. You may assume that the string has sufficient space at the end to hold the additional characters, and that you are given the \"true\" length of the string. (Note: If implementing in Java, please use a character array so that you can perform this operation in place.)\n",
    "# EXAMPLE\n",
    "# Input: \"Mr John Smith \", 13\n",
    "# Output: \"Mr%20John%20Smith\"\n",
    "def urlify(string):\n",
    "    \n",
    "    space_count = 0\n",
    "    \n",
    "    # Count the number of spaces in the string\n",
    "    for char in string:\n",
    "        if char == \" \":\n",
    "            space_count += 1\n",
    "        \n",
    "    # Convert the string to a list of characters\n",
    "    char_list = list(string)\n",
    "\n",
    "    # Calculate the new string length\n",
    "    new_length = len(string) + space_count * 2\n",
    "\n",
    "    # Resize the character list\n",
    "    char_list.extend([''] * space_count * 2)\n",
    "    \n",
    "    # # Fill the empty spaces with %20\n",
    "    for i in reversed(range(len(string))):\n",
    "        if char_list[i] == \" \":        \n",
    "            char_list[new_length - 1] = \"0\"\n",
    "            char_list[new_length - 2] = \"2\"\n",
    "            char_list[new_length - 3] = \"%\"             \n",
    "            print(\"replace  : \",i, char_list)\n",
    "            new_length -= 3\n",
    "        else:\n",
    "            char_list[new_length - 1] = char_list[i]   \n",
    "            print(\"movement : \",i, char_list)\n",
    "            new_length -= 1\n",
    "    return \"\".join(char_list) \n",
    "\n",
    "print(urlify(\"Mr  John  Smith\"))\n",
    "#print(urlify(\"Mr John\"))\n"
   ]
  },
  {
   "cell_type": "code",
   "execution_count": 74,
   "metadata": {},
   "outputs": [
    {
     "name": "stdout",
     "output_type": "stream",
     "text": [
      "True\n",
      "True\n",
      "True\n",
      "False\n",
      "False\n",
      "False\n"
     ]
    }
   ],
   "source": [
    "#1.5 One Away: There are three types of edits that can be performed on strings: insert a character, remove a character, or replace a character. Given two strings, write a function to check if they are one edit (or zero edits) away.\n",
    "# EXAMPLE\n",
    "# pale, ple -> true\n",
    "# pales, pale -> true\n",
    "# pale, bale -> true\n",
    "# pale, bake -> false\n",
    "\n",
    "def one_edit_same_length(word1, word2):\n",
    "    count_diff = 0\n",
    "    for i in range(len(word1)):\n",
    "        if word1[i] != word2[i]:\n",
    "            count_diff += 1\n",
    "        if count_diff > 1:\n",
    "            return False\n",
    "    return True\n",
    "\n",
    "def one_edit_diff_lengths(word1, word2):\n",
    "    i = 0\n",
    "    count = 0\n",
    "    while i < len(word2):\n",
    "        if word1[i + count] == word2[i]:\n",
    "            i += 1\n",
    "        else:\n",
    "            count += 1\n",
    "        if count > 1:\n",
    "            return False\n",
    "    return True\n",
    "\n",
    "\n",
    "def one_away(s1, s2):\n",
    "    # If the length difference between the strings is greater than 1, return False\n",
    "    if abs(len(s1) - len(s2)) > 1:\n",
    "        return False\n",
    "    elif len(s1) == len(s2):\n",
    "        return one_edit_same_length(s1, s2)\n",
    "    elif len(s1)  > len(s2):\n",
    "        return one_edit_diff_lengths(s1, s2)\n",
    "    elif len(s1)  < len(s2):\n",
    "        return one_edit_diff_lengths(s2, s1)\n",
    "    \n",
    "    \n",
    "# Test the function\n",
    "s1 = \"pale\"\n",
    "s2 = \"ple\"\n",
    "print(one_away(s1, s2))  # True\n",
    "print(one_away(\"pales\", \"pale\"))  # True\n",
    "print(one_away(\"pale\", \"ple\"))  # True\n",
    "print(one_away(\"pale\", \"bake\"))  # False\n",
    "print(one_away(\"pale\", \"ales\"))  # False\n",
    "print(one_away(\"pale\", \"pas\"))  # False"
   ]
  },
  {
   "cell_type": "code",
   "execution_count": 48,
   "metadata": {},
   "outputs": [
    {
     "name": "stdout",
     "output_type": "stream",
     "text": [
      "a2b1c5a3d1\n"
     ]
    }
   ],
   "source": [
    "# 1.6 String Compression: Implement a method to perform basic string compression using the counts of repeated characters.\n",
    "# For example, the string aabcccccaaa would become a2b1c5a3.\n",
    "# If the \"compressed\" string would not become smaller than the original string, \n",
    "# your method should return the original string. You can assume the string has only uppercase and lowercase letters (a - z).\n",
    "\n",
    "word = \"aabcccccaaad\" # a2b1c5a3\n",
    "\n",
    "def string_compression(word):\n",
    "# Create a list of tuples with the character and its consecutive count\n",
    "    char_list = []\n",
    "    count = 1\n",
    "    for i in range(len(word)):\n",
    "        if i < len(word) - 1 and word[i] == word[i + 1]:\n",
    "            count += 1\n",
    "        else:\n",
    "            char_list.append((word[i], count))\n",
    "            count = 1\n",
    "    # Create a new string with the character and its count\n",
    "    new_string = \"\"\n",
    "    for item in char_list:\n",
    "        new_string += item[0] + str(item[1])\n",
    "    # Return the original string if the new string is not shorter\n",
    "    if len(new_string) >= len(word):\n",
    "        return word\n",
    "    else:\n",
    "        return new_string\n",
    "    \n",
    "# Test the function\n",
    "print(string_compression(word))\n",
    "\n",
    "    \n",
    "\n",
    "        "
   ]
  }
 ],
 "metadata": {
  "kernelspec": {
   "display_name": "Python 3",
   "language": "python",
   "name": "python3"
  },
  "language_info": {
   "codemirror_mode": {
    "name": "ipython",
    "version": 3
   },
   "file_extension": ".py",
   "mimetype": "text/x-python",
   "name": "python",
   "nbconvert_exporter": "python",
   "pygments_lexer": "ipython3",
   "version": "3.8.9"
  },
  "orig_nbformat": 4
 },
 "nbformat": 4,
 "nbformat_minor": 2
}
